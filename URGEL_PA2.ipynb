{
 "cells": [
  {
   "cell_type": "markdown",
   "id": "ff2d2bca-55d2-4a06-87ff-cc36e26ca49b",
   "metadata": {},
   "source": [
    "#### URGEL, HANNAH PAULEEN A. URGEL - 2ECE-B"
   ]
  },
  {
   "cell_type": "markdown",
   "id": "2c72aff4-7778-4e06-b1c3-cdd9767a7d96",
   "metadata": {},
   "source": [
    "# NORMALIZATION PROBLEM: "
   ]
  },
  {
   "cell_type": "markdown",
   "id": "eeb93601-0a41-4ce2-b667-0ab59fe7bcc3",
   "metadata": {},
   "source": [
    "Normalization is one of the most basic preprocessing techniques in data analytics. This involves centering and scaling process. Centering means subtracting the data from the mean and scaling means dividing with its standard deviation. Mathematically, normalization can be expressed as:\n",
    "\n",
    "𝑍 = 𝑋 − 𝑥̅ / 𝜎\n",
    "\n",
    "In Python, element-wise mean and element-wise standard deviation can be obtained by using .mean() and .std() calls.\n",
    "\n",
    "In this problem, create a random 5 x 5 ndarray and store it to variable X. Normalize X. Save your normalized ndarray as X_normalized.npy\n"
   ]
  },
  {
   "cell_type": "code",
   "execution_count": 1,
   "id": "2119348a-d905-4e6e-a13e-7387640902e7",
   "metadata": {},
   "outputs": [],
   "source": [
    "import numpy as np"
   ]
  },
  {
   "cell_type": "code",
   "execution_count": 5,
   "id": "a48391c4-d6ef-4479-9832-836994344082",
   "metadata": {},
   "outputs": [],
   "source": [
    "X = np.random.rand(5, 5)"
   ]
  },
  {
   "cell_type": "code",
   "execution_count": 6,
   "id": "989b51e4-c2db-443a-9399-bc94e5f41d57",
   "metadata": {},
   "outputs": [
    {
     "name": "stdout",
     "output_type": "stream",
     "text": [
      "Original Array X:\n",
      " [[0.98353468 0.38621188 0.96092985 0.11611052 0.85833245]\n",
      " [0.47790702 0.11344014 0.48899677 0.31309082 0.06690041]\n",
      " [0.23222636 0.36462738 0.32758009 0.69890747 0.81788496]\n",
      " [0.79839662 0.00994932 0.09407366 0.89312836 0.7419494 ]\n",
      " [0.3469048  0.85017109 0.01570894 0.1050119  0.74636124]]\n"
     ]
    }
   ],
   "source": [
    "print(\"Original Array X:\\n\", X)"
   ]
  },
  {
   "cell_type": "code",
   "execution_count": 10,
   "id": "bc618ce4-27d8-476e-a73b-92d8cada3bf6",
   "metadata": {},
   "outputs": [],
   "source": [
    "mean = X.mean()\n",
    "std = X.std()"
   ]
  },
  {
   "cell_type": "code",
   "execution_count": 11,
   "id": "38bf066b-72de-44d7-94cf-43d129f0032a",
   "metadata": {},
   "outputs": [
    {
     "name": "stdout",
     "output_type": "stream",
     "text": [
      "Mean: 0.47233344512637837\n"
     ]
    }
   ],
   "source": [
    "print(\"Mean:\", mean)"
   ]
  },
  {
   "cell_type": "code",
   "execution_count": 12,
   "id": "f4dda032-40fd-4a5b-91dc-a311daefbb9f",
   "metadata": {},
   "outputs": [
    {
     "name": "stdout",
     "output_type": "stream",
     "text": [
      "Standard Deviation: 0.3257685273905709\n"
     ]
    }
   ],
   "source": [
    "print(\"Standard Deviation:\", std)"
   ]
  },
  {
   "cell_type": "code",
   "execution_count": 15,
   "id": "3660131b-0875-4c08-aeb6-e980e03f6d1e",
   "metadata": {},
   "outputs": [],
   "source": [
    "X_normalized = (X - mean) / std"
   ]
  },
  {
   "cell_type": "code",
   "execution_count": 16,
   "id": "0c29f9f1-3730-487a-a2ea-5989b674a869",
   "metadata": {},
   "outputs": [
    {
     "name": "stdout",
     "output_type": "stream",
     "text": [
      "\n",
      "Normalized Array\n",
      ": [[ 1.56921616 -0.2643643   1.49982691 -1.09348479  1.18488734]\n",
      " [ 0.01710901 -1.10168194  0.05115081 -0.48882138 -1.2445433 ]\n",
      " [-0.73704813 -0.33062145 -0.44434419  0.69550619  1.06072712]\n",
      " [ 1.00090447 -1.41936403 -1.16113053  1.29169909  0.82763045]\n",
      " [-0.38502382  1.1598347  -1.40168391 -1.12755382  0.84117334]]\n"
     ]
    }
   ],
   "source": [
    "print(\"\\nNormalized Array\\n:\", X_normalized)"
   ]
  },
  {
   "cell_type": "code",
   "execution_count": 17,
   "id": "b85eb497-27c4-4ebf-8b11-1ceff04133e9",
   "metadata": {},
   "outputs": [],
   "source": [
    "np.save(\"X_normalized.npy\", X_normalized)"
   ]
  },
  {
   "cell_type": "markdown",
   "id": "ec0ef11e-7fac-4788-82b9-c976a83b8b5d",
   "metadata": {},
   "source": [
    "# DIVISIBLE BY 3 PROBLEM:"
   ]
  },
  {
   "cell_type": "markdown",
   "id": "767bd928-1735-4ced-9ffa-82e54b1a3b01",
   "metadata": {},
   "source": [
    "Create the following 10 x 10 ndarray"
   ]
  },
  {
   "cell_type": "code",
   "execution_count": 18,
   "id": "142572d4-c6fd-4e42-a19f-be152c12cce9",
   "metadata": {},
   "outputs": [],
   "source": [
    "import numpy as np"
   ]
  },
  {
   "cell_type": "code",
   "execution_count": 19,
   "id": "fde3482a-f71a-457b-a115-e1e503ceb348",
   "metadata": {},
   "outputs": [],
   "source": [
    "A = np.arange(1, 101) ** 2\n",
    "A = A.reshape(10, 10)"
   ]
  },
  {
   "cell_type": "code",
   "execution_count": 20,
   "id": "c80338b6-be13-4edb-b412-22c0033cdb42",
   "metadata": {},
   "outputs": [
    {
     "name": "stdout",
     "output_type": "stream",
     "text": [
      "Array A (10x10 with squares of first 100 integers):\n",
      " [[    1     4     9    16    25    36    49    64    81   100]\n",
      " [  121   144   169   196   225   256   289   324   361   400]\n",
      " [  441   484   529   576   625   676   729   784   841   900]\n",
      " [  961  1024  1089  1156  1225  1296  1369  1444  1521  1600]\n",
      " [ 1681  1764  1849  1936  2025  2116  2209  2304  2401  2500]\n",
      " [ 2601  2704  2809  2916  3025  3136  3249  3364  3481  3600]\n",
      " [ 3721  3844  3969  4096  4225  4356  4489  4624  4761  4900]\n",
      " [ 5041  5184  5329  5476  5625  5776  5929  6084  6241  6400]\n",
      " [ 6561  6724  6889  7056  7225  7396  7569  7744  7921  8100]\n",
      " [ 8281  8464  8649  8836  9025  9216  9409  9604  9801 10000]]\n"
     ]
    }
   ],
   "source": [
    "print(\"Array A (10x10 with squares of first 100 integers):\\n\", A)"
   ]
  },
  {
   "cell_type": "code",
   "execution_count": 21,
   "id": "1b03f633-a483-4553-87cf-b404135da0ce",
   "metadata": {},
   "outputs": [],
   "source": [
    "div_by_3 = A[A % 3 == 0]"
   ]
  },
  {
   "cell_type": "code",
   "execution_count": 22,
   "id": "6955ba75-6c29-475a-bdf6-8d1417ffc403",
   "metadata": {},
   "outputs": [
    {
     "name": "stdout",
     "output_type": "stream",
     "text": [
      "\n",
      "Elements divisible by 3:\n",
      " [   9   36   81  144  225  324  441  576  729  900 1089 1296 1521 1764\n",
      " 2025 2304 2601 2916 3249 3600 3969 4356 4761 5184 5625 6084 6561 7056\n",
      " 7569 8100 8649 9216 9801]\n"
     ]
    }
   ],
   "source": [
    "print(\"\\nElements divisible by 3:\\n\", div_by_3)"
   ]
  },
  {
   "cell_type": "code",
   "execution_count": 23,
   "id": "ee393762-6404-498a-8aec-89dd9e6559e9",
   "metadata": {},
   "outputs": [],
   "source": [
    "np.save(\"div_by_3.npy\", div_by_3)"
   ]
  }
 ],
 "metadata": {
  "kernelspec": {
   "display_name": "Python 3 (ipykernel)",
   "language": "python",
   "name": "python3"
  },
  "language_info": {
   "codemirror_mode": {
    "name": "ipython",
    "version": 3
   },
   "file_extension": ".py",
   "mimetype": "text/x-python",
   "name": "python",
   "nbconvert_exporter": "python",
   "pygments_lexer": "ipython3",
   "version": "3.13.5"
  }
 },
 "nbformat": 4,
 "nbformat_minor": 5
}
